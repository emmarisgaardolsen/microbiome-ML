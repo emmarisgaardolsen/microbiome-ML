{
 "cells": [
  {
   "cell_type": "code",
   "execution_count": null,
   "metadata": {},
   "outputs": [],
   "source": [
    "# first load in csv fle as data "
   ]
  },
  {
   "cell_type": "code",
   "execution_count": null,
   "metadata": {},
   "outputs": [],
   "source": [
    "import matplotlib.pyplot as plt\n",
    "import numpy as np\n",
    "\n",
    "# calculate sum of values across all columns (except the first column which is sample id) \n",
    "sum_values = data.iloc[:, 1:].sum(axis=1)\n",
    "\n",
    "# define the number of bins and calculate the histogram\n",
    "bin_edges = np.linspace(95, 100, 6)  # creates 5 bins from 95 to 100\n",
    "hist, bins = np.histogram(sum_values, bins=bin_edges)\n",
    "\n",
    "# plot the histogram with bars\n",
    "plt.bar(bins[:-1], hist, width=np.diff(bins), align='edge', color='lightblue', edgecolor='black')\n",
    "\n",
    "# add labels to each bar\n",
    "for i in range(len(hist)):\n",
    "    plt.text(bins[i]+0.5*np.diff(bins)[0], hist[i], str(hist[i]), ha='center', va='bottom')\n",
    "\n",
    "# set x-axis labels to be more precise\n",
    "plt.xticks(bins)\n",
    "\n",
    "# label the axes\n",
    "plt.xlabel('Sum of values')\n",
    "plt.ylabel('Frequency')\n",
    "\n",
    "# set the title for the plot\n",
    "plt.title('Histogram of sum of values for each sample')\n",
    "\n",
    "# display the histogram\n",
    "plt.show()\n"
   ]
  },
  {
   "cell_type": "code",
   "execution_count": null,
   "metadata": {},
   "outputs": [],
   "source": [
    "# create a density plot\n",
    "sns.kdeplot(sum_values, shade=True, color=\"blue\")\n",
    "plt.xticks(range(90, 101))\n",
    "plt.xlabel('Sum of values')\n",
    "plt.ylabel('Density')\n",
    "plt.xlim(90,100)\n",
    "plt.title('Density Plot of Sum of Values for Each Sample')\n",
    "plt.show()\n"
   ]
  },
  {
   "cell_type": "markdown",
   "metadata": {},
   "source": [
    "# plot lactobacillus"
   ]
  },
  {
   "cell_type": "markdown",
   "metadata": {},
   "source": [
    "# extract indices for columns that include the word 'Lactobacillus' (case-insensitive)\n",
    "lacto_index = [i for i, s in enumerate(healthy_subset_df.columns) if 'lactobacillus' in s.lower()]\n",
    "\n",
    "# print descriptive status for all 83 Lactobacillus species\n",
    "lacto_df = healthy_subset_df.iloc[:,lacto_index]\n",
    "\n",
    "# setting aesthetics for all plots (this plot isn't really informative)\n",
    "sns.set_style(\"whitegrid\")\n",
    "palette = sns.color_palette(\"muted\")\n",
    "\n",
    "# defining the number of plots, number of columns per plot, and the total number of column\n",
    "n_plots = len(lacto_df.columns) // 15 + (len(lacto_df.columns) % 15 > 0)\n",
    "n_cols_per_plot = 15\n",
    "n_cols = len(lacto_df.columns)\n",
    "\n",
    "# generate the box plots\n",
    "for i in range(n_plots):\n",
    "    # selecting the subset of columns for current plot\n",
    "    cols_to_plot = lacto_df.columns[i * n_cols_per_plot: (i + 1) * n_cols_per_plot]\n",
    "    plt.figure(figsize=(12, 6))\n",
    "    sns.boxplot(data=lacto_df[cols_to_plot], palette=palette)\n",
    "    plt.xticks(rotation=90)\n",
    "    plt.title(f'Distribution of Lactobacillus species (Set {i+1})')\n",
    "    plt.xlabel('Species')\n",
    "    plt.ylabel('Values')\n",
    "    sns.despine()\n",
    "    \n",
    "    # Save each plot with a unique name\n",
    "    plt.savefig(f'../../figs/lacto_distributions/lacto_boxplot_set_{i+1}.png')\n",
    "    plt.show()"
   ]
  }
 ],
 "metadata": {
  "language_info": {
   "name": "python"
  }
 },
 "nbformat": 4,
 "nbformat_minor": 2
}
