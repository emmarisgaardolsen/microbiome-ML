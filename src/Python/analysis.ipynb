{
 "cells": [
  {
   "cell_type": "markdown",
   "metadata": {},
   "source": [
    "# OOBS add a combined ROC curve plot and a combined PRC plot!!! I lost this code somehow.. \n",
    "\n",
    "# Analysing Data"
   ]
  },
  {
   "cell_type": "markdown",
   "metadata": {},
   "source": [
    "OOOBS: I could try to add 'scoring='roc_auc' in the GridSearchCV. That would mean that the GridSearchCV would use the roc_auc to evaluate the best model. \n",
    "But it is not the same as the model optimising the roc_auc. The model optimises the log loss (I think??)\n",
    "- Maybe see this kaggle exampel: https://www.kaggle.com/code/arindambanerjee/grid-search-simplified"
   ]
  },
  {
   "cell_type": "markdown",
   "metadata": {},
   "source": []
  },
  {
   "cell_type": "code",
   "execution_count": 71,
   "metadata": {},
   "outputs": [],
   "source": [
    "import os\n",
    "import pandas as pd\n",
    "import numpy as np\n",
    "import matplotlib.pyplot as plt\n",
    "from sklearn.model_selection import RandomizedSearchCV, GridSearchCV, StratifiedKFold\n",
    "from sklearn.metrics import accuracy_score, precision_score, recall_score, f1_score, classification_report, precision_recall_curve, auc \n",
    "from sklearn.ensemble import RandomForestClassifier\n",
    "from sklearn.svm import SVC\n",
    "import xgboost as xgb\n",
    "import tensorflow as tf\n",
    "from sklearn.metrics import roc_auc_score, roc_curve\n",
    "from sklearn.linear_model import LogisticRegression, LogisticRegressionCV\n",
    "from pathlib import Path\n",
    "from sklearn.dummy import DummyClassifier"
   ]
  },
  {
   "cell_type": "markdown",
   "metadata": {},
   "source": [
    "## Model Functions"
   ]
  },
  {
   "cell_type": "code",
   "execution_count": 73,
   "metadata": {},
   "outputs": [],
   "source": [
    "# Decorator for running a function on multiple dataset splits\n",
    "def run_on_splits(func):\n",
    "    def _run_loop(model, splits, **kwargs):\n",
    "        results = {}\n",
    "        roc_data = {}\n",
    "        prc_data = {}\n",
    "        test_roc_data = {}\n",
    "        test_prc_data = {}\n",
    "        model_name = kwargs.get('model_name', 'model')\n",
    "        for split in splits:\n",
    "            X, y, nsplit = split\n",
    "            result, roc_info, prc_info = func(model, X, y, nsplit, **kwargs)\n",
    "            results[nsplit] = result\n",
    "            roc_data[nsplit] = roc_info\n",
    "            prc_data[nsplit] = prc_info\n",
    "            if nsplit == 'test':\n",
    "                test_roc_data[model_name] = roc_info\n",
    "                test_prc_data[model_name] = prc_info\n",
    "        return results, roc_data, prc_data, test_roc_data, test_prc_data\n",
    "    return _run_loop\n",
    "\n",
    "@run_on_splits\n",
    "def evaluate_classification(model, X, y, nsplit, model_name):\n",
    "    preds = model.predict(X)\n",
    "    pred_probs = model.predict_proba(X)[:, 1]\n",
    "    accuracy = accuracy_score(y, preds)\n",
    "    roc_auc = roc_auc_score(y, pred_probs)\n",
    "    fpr, tpr, _ = roc_curve(y, pred_probs)\n",
    "    precision, recall, _ = precision_recall_curve(y, pred_probs)\n",
    "    prc_auc = auc(recall, precision)\n",
    "    report = classification_report(y, preds, output_dict=True)\n",
    "    print(f\"{model_name} - {nsplit} - Accuracy: {accuracy}, ROC_AUC: {roc_auc}, PRC_AUC: {prc_auc}\\n{report}\")\n",
    "    return (accuracy, report), (fpr, tpr, roc_auc), (precision, recall, prc_auc)\n",
    "\n",
    "def save_model_results(results, model_name, results_dir):\n",
    "    directory = results_dir\n",
    "    os.makedirs(directory, exist_ok=True)\n",
    "    filepath = os.path.join(directory, f'{model_name}_results.txt')\n",
    "    with open(filepath, 'w') as f:\n",
    "        for split, (accuracy, report) in results.items():\n",
    "            f.write(f\"{model_name} - {split} - Accuracy: {accuracy}\\n\")\n",
    "            f.write(\"Classification Report:\\n\")\n",
    "            for key, value in report.items():\n",
    "                f.write(f\"{key}: {value}\\n\")\n",
    "            f.write(\"\\n\")  \n",
    "    \n",
    "def plot_roc_curves(roc_data, model_name, results_dir, filename='roc_curves.png'):\n",
    "    plt.figure(figsize=(10, 8))\n",
    "    for split, (fpr, tpr, roc_auc) in roc_data.items():\n",
    "        plt.plot(fpr, tpr, label=f'{model_name} - {split} (ROC AUC = {roc_auc:.2f})')\n",
    "    plt.plot([0, 1], [0, 1], 'k--')\n",
    "    plt.xlabel('False Positive Rate')\n",
    "    plt.ylabel('True Positive Rate')\n",
    "    plt.title('ROC Curves')\n",
    "    plt.legend(loc=\"lower right\")\n",
    "    full_path = os.path.join(results_dir, f'{model_name}_{filename}')\n",
    "    plt.savefig(full_path)\n",
    "    plt.close()\n",
    "\n",
    "def plot_prc_curves(prc_data, model_name, results_dir, filename='prc_curves.png'):\n",
    "    plt.figure(figsize=(10, 8))\n",
    "    for split, (precision, recall, prc_auc) in prc_data.items():\n",
    "        plt.plot(recall, precision, label=f'{model_name} - {split} (PRC AUC = {prc_auc:.2f})')\n",
    "    plt.xlabel('Recall')\n",
    "    plt.ylabel('Precision')\n",
    "    plt.title('Precision-Recall Curves')\n",
    "    plt.legend(loc=\"lower left\")\n",
    "    full_path = os.path.join(results_dir, f'{model_name}_{filename}')\n",
    "    plt.savefig(full_path)\n",
    "    plt.close()\n",
    "    \n",
    "def plot_feature_importances(model, model_name, feature_names, results_dir, filename='feature_importances.png'):\n",
    "    feature_importances = model.feature_importances_\n",
    "    indices = np.argsort(feature_importances)[-10:]\n",
    "    plt.figure(figsize=(10, 6))\n",
    "    plt.title('Feature Importances')\n",
    "    plt.barh(range(len(indices)), feature_importances[indices], color='b', align='center')\n",
    "    plt.yticks(range(len(indices)), [feature_names[i] for i in indices])\n",
    "    plt.xlabel('Relative Importance')\n",
    "    full_path = os.path.join(results_dir, f'{model_name}_{filename}')\n",
    "    plt.savefig(full_path)\n",
    "    plt.close()\n",
    "    \n",
    "def plot_combined_prc_curves(all_prc_data, results_dir, filename='all_prc_curves.png'):\n",
    "    plt.figure(figsize=(10, 8))\n",
    "    for model_name, prc_data in all_prc_data.items():\n",
    "        precision, recall, prc_auc = prc_data\n",
    "        plt.plot(recall, precision, label=f'{model_name} (PRC AUC = {prc_auc:.2f})')\n",
    "    plt.xlabel('Recall')\n",
    "    plt.ylabel('Precision')\n",
    "    plt.title('Combined Precision-Recall Curves')\n",
    "    plt.legend(loc=\"lower left\")\n",
    "    full_path = os.path.join(results_dir, filename)\n",
    "    plt.savefig(full_path)\n",
    "    plt.close()\n",
    "\n",
    "def plot_combined_roc_curves(all_roc_data, results_dir, filename='all_roc_curves.png'):\n",
    "    plt.figure(figsize=(10, 8))\n",
    "    for model_name, roc_data in all_roc_data.items():\n",
    "        fpr, tpr, roc_auc = roc_data\n",
    "        plt.plot(fpr, tpr, label=f'{model_name} (ROC AUC = {roc_auc:.2f})')\n",
    "    plt.plot([0, 1], [0, 1], 'k--')\n",
    "    plt.xlabel('False Positive Rate')\n",
    "    plt.ylabel('True Positive Rate')\n",
    "    plt.title('Combined ROC Curves')\n",
    "    plt.legend(loc=\"lower right\")\n",
    "    full_path = os.path.join(results_dir, filename)\n",
    "    plt.savefig(full_path)\n",
    "    plt.close()\n"
   ]
  },
  {
   "cell_type": "markdown",
   "metadata": {},
   "source": [
    "## Load Data"
   ]
  },
  {
   "cell_type": "code",
   "execution_count": 74,
   "metadata": {},
   "outputs": [],
   "source": [
    "root = Path.cwd().parents[1] # root dir microbiome-ML\n",
    "\n",
    "# Load data\n",
    "train_data_path = root / \"data\" / \"reduced_0_1\" / \"train.csv\"\n",
    "val_data_path = root / \"data\" / \"reduced_0_1\" / \"val.csv\"\n",
    "test_data_path = root / \"data\" / \"reduced_0_1\" / \"test.csv\"\n",
    "\n",
    "train_data = pd.read_csv(train_data_path)\n",
    "val_data = pd.read_csv(val_data_path)\n",
    "test_data = pd.read_csv(test_data_path)\n",
    "\n",
    "# Prepare datasets\n",
    "X_train = train_data.iloc[:, :-1].values\n",
    "y_train = train_data.iloc[:, -1].values\n",
    "X_val = val_data.iloc[:, :-1].values\n",
    "y_val = val_data.iloc[:, -1].values\n",
    "X_test = test_data.iloc[:, :-1].values\n",
    "y_test = test_data.iloc[:, -1].values\n",
    "\n",
    "feature_names = train_data.columns[:-1]\n",
    "\n",
    "# Results dir\n",
    "results_dir = root / \"results\" / \"model_reports\"\n",
    "\n",
    "all_roc_data = {}\n",
    "all_prc_data = {}"
   ]
  },
  {
   "cell_type": "markdown",
   "metadata": {},
   "source": [
    "## Random Forest"
   ]
  },
  {
   "cell_type": "code",
   "execution_count": 75,
   "metadata": {},
   "outputs": [
    {
     "name": "stdout",
     "output_type": "stream",
     "text": [
      "Random_Forest_Basic - train - Accuracy: 1.0, ROC_AUC: 1.0, PRC_AUC: 0.9999999999999999\n",
      "{'0.0': {'precision': 1.0, 'recall': 1.0, 'f1-score': 1.0, 'support': 1938.0}, '1.0': {'precision': 1.0, 'recall': 1.0, 'f1-score': 1.0, 'support': 1912.0}, 'accuracy': 1.0, 'macro avg': {'precision': 1.0, 'recall': 1.0, 'f1-score': 1.0, 'support': 3850.0}, 'weighted avg': {'precision': 1.0, 'recall': 1.0, 'f1-score': 1.0, 'support': 3850.0}}\n",
      "Random_Forest_Basic - val - Accuracy: 0.715496368038741, ROC_AUC: 0.7954517462831002, PRC_AUC: 0.80797354874184\n",
      "{'0.0': {'precision': 0.6855895196506551, 'recall': 0.7753086419753087, 'f1-score': 0.727694090382387, 'support': 405.0}, '1.0': {'precision': 0.7527173913043478, 'recall': 0.6579572446555819, 'f1-score': 0.7021546261089987, 'support': 421.0}, 'accuracy': 0.715496368038741, 'macro avg': {'precision': 0.7191534554775014, 'recall': 0.7166329433154452, 'f1-score': 0.7149243582456928, 'support': 826.0}, 'weighted avg': {'precision': 0.7198036043555033, 'recall': 0.715496368038741, 'f1-score': 0.7146770026595098, 'support': 826.0}}\n",
      "Random_Forest_Basic - test - Accuracy: 0.7457627118644068, ROC_AUC: 0.8102533363891191, PRC_AUC: 0.8023973002853875\n",
      "{'0.0': {'precision': 0.7528344671201814, 'recall': 0.766743648960739, 'f1-score': 0.7597254004576659, 'support': 433.0}, '1.0': {'precision': 0.7376623376623377, 'recall': 0.72264631043257, 'f1-score': 0.7300771208226221, 'support': 393.0}, 'accuracy': 0.7457627118644068, 'macro avg': {'precision': 0.7452484023912596, 'recall': 0.7446949796966544, 'f1-score': 0.744901260640144, 'support': 826.0}, 'weighted avg': {'precision': 0.7456157663006503, 'recall': 0.7457627118644068, 'f1-score': 0.745619136660363, 'support': 826.0}}\n",
      "Best parameters: {'n_estimators': 50, 'min_samples_split': 2, 'max_features': None, 'max_depth': 10}\n",
      "Random_Forest_Optimized - train - Accuracy: 0.9420779220779221, ROC_AUC: 0.9866264772810688, PRC_AUC: 0.9876086406999761\n",
      "{'0.0': {'precision': 0.9337379868487607, 'recall': 0.9525283797729618, 'f1-score': 0.9430395913154533, 'support': 1938.0}, '1.0': {'precision': 0.9508809396689802, 'recall': 0.9314853556485355, 'f1-score': 0.9410832232496698, 'support': 1912.0}, 'accuracy': 0.9420779220779221, 'macro avg': {'precision': 0.9423094632588704, 'recall': 0.9420068677107487, 'f1-score': 0.9420614072825615, 'support': 3850.0}, 'weighted avg': {'precision': 0.9422515779636335, 'recall': 0.9420779220779221, 'f1-score': 0.9420680132007058, 'support': 3850.0}}\n",
      "Random_Forest_Optimized - val - Accuracy: 0.7142857142857143, ROC_AUC: 0.8063693146828538, PRC_AUC: 0.8145742744806693\n",
      "{'0.0': {'precision': 0.690744920993228, 'recall': 0.7555555555555555, 'f1-score': 0.7216981132075472, 'support': 405.0}, '1.0': {'precision': 0.741514360313316, 'recall': 0.6745843230403801, 'f1-score': 0.7064676616915423, 'support': 421.0}, 'accuracy': 0.7142857142857143, 'macro avg': {'precision': 0.716129640653272, 'recall': 0.7150699392979678, 'f1-score': 0.7140828874495447, 'support': 826.0}, 'weighted avg': {'precision': 0.7166213543512874, 'recall': 0.7142857142857143, 'f1-score': 0.7139353770232396, 'support': 826.0}}\n",
      "Random_Forest_Optimized - test - Accuracy: 0.7300242130750605, ROC_AUC: 0.7993759145320241, PRC_AUC: 0.7791432716348081\n",
      "{'0.0': {'precision': 0.7453271028037384, 'recall': 0.7367205542725174, 'f1-score': 0.7409988385598142, 'support': 433.0}, '1.0': {'precision': 0.7135678391959799, 'recall': 0.72264631043257, 'f1-score': 0.718078381795196, 'support': 393.0}, 'accuracy': 0.7300242130750605, 'macro avg': {'precision': 0.7294474709998591, 'recall': 0.7296834323525436, 'f1-score': 0.7295386101775051, 'support': 826.0}, 'weighted avg': {'precision': 0.7302164604334611, 'recall': 0.7300242130750605, 'f1-score': 0.7300935849175685, 'support': 826.0}}\n"
     ]
    }
   ],
   "source": [
    "def tune_and_evaluate_rf(X_train, y_train, X_val, y_val, X_test, y_test, feature_names, results_dir):\n",
    "    # Basic Random Forest model\n",
    "    basic_rfc = RandomForestClassifier(random_state=42)\n",
    "    basic_rfc.fit(X_train, y_train)\n",
    "    \n",
    "    splits = [(X_train, y_train, 'train'), (X_val, y_val, 'val'), (X_test, y_test, 'test')]\n",
    "    basic_results, basic_roc_data, basic_prc_data, test_roc_data, test_prc_data = evaluate_classification(basic_rfc, splits, model_name=\"Random_Forest_Basic\")\n",
    "    save_model_results(basic_results, \"Random_Forest_Basic\", results_dir)\n",
    "    \n",
    "    plot_roc_curves(basic_roc_data, \"Random_Forest_Basic\", results_dir, filename='roc_curves.png')\n",
    "    plot_prc_curves(basic_prc_data, \"Random_Forest_Basic\", results_dir, filename='prc_curves.png')\n",
    "    plot_feature_importances(basic_rfc, \"Random_Forest_Basic\", feature_names, results_dir, filename='feature_importances.png')\n",
    "\n",
    "    all_roc_data[\"Random_Forest_Basic\"] = test_roc_data[\"Random_Forest_Basic\"]\n",
    "    all_prc_data[\"Random_Forest_Basic\"] = test_prc_data[\"Random_Forest_Basic\"]\n",
    "\n",
    "    # Hyperparameter-tuned Random Forest model\n",
    "    rfc = RandomForestClassifier(random_state=42)\n",
    "    param_grid = {\n",
    "        'n_estimators': [10, 50, 100, 200],\n",
    "        'max_depth': [3, 5, 10, None],\n",
    "        'min_samples_split': [2, 5, 10],\n",
    "        'max_features': ['sqrt', 'log2', None]\n",
    "    }\n",
    "    cv_rfc = RandomizedSearchCV(estimator=rfc, param_distributions=param_grid, scoring='accuracy', n_iter=10, cv=3, random_state=42)\n",
    "    cv_rfc.fit(X_train, y_train)\n",
    "    best_params = cv_rfc.best_params_\n",
    "    print(\"Best parameters:\", best_params)\n",
    "\n",
    "    results, roc_data, prc_data, test_roc_data, test_prc_data = evaluate_classification(cv_rfc.best_estimator_, splits, model_name=\"Random_Forest_Optimized\")\n",
    "    save_model_results(results, \"Random_Forest_Optimized\", results_dir)\n",
    "\n",
    "    plot_roc_curves(roc_data, \"Random_Forest_Optimized\", results_dir, filename='roc_curves.png')\n",
    "    plot_prc_curves(prc_data, \"Random_Forest_Optimized\", results_dir, filename='prc_curves.png')\n",
    "    plot_feature_importances(cv_rfc.best_estimator_, \"Random_Forest_Optimized\", feature_names, results_dir, filename='feature_importances.png')\n",
    "\n",
    "    all_roc_data[\"Random_Forest_Optimized\"] = test_roc_data[\"Random_Forest_Optimized\"]\n",
    "    all_prc_data[\"Random_Forest_Optimized\"] = test_prc_data[\"Random_Forest_Optimized\"]\n",
    "\n",
    "    return results, roc_data, prc_data\n",
    "\n",
    "results_rf, roc_data_rf, prc_data_rf = tune_and_evaluate_rf(X_train, y_train, X_val, y_val, X_test, y_test, feature_names, results_dir)\n"
   ]
  },
  {
   "cell_type": "markdown",
   "metadata": {},
   "source": [
    "## XGBoost"
   ]
  },
  {
   "cell_type": "code",
   "execution_count": 76,
   "metadata": {},
   "outputs": [
    {
     "name": "stdout",
     "output_type": "stream",
     "text": [
      "XGBoost_Basic - train - Accuracy: 1.0, ROC_AUC: 1.0, PRC_AUC: 0.9999999999999999\n",
      "{'0.0': {'precision': 1.0, 'recall': 1.0, 'f1-score': 1.0, 'support': 1938.0}, '1.0': {'precision': 1.0, 'recall': 1.0, 'f1-score': 1.0, 'support': 1912.0}, 'accuracy': 1.0, 'macro avg': {'precision': 1.0, 'recall': 1.0, 'f1-score': 1.0, 'support': 3850.0}, 'weighted avg': {'precision': 1.0, 'recall': 1.0, 'f1-score': 1.0, 'support': 3850.0}}\n",
      "XGBoost_Basic - val - Accuracy: 0.7433414043583535, ROC_AUC: 0.8143397554323921, PRC_AUC: 0.8184862925022971\n",
      "{'0.0': {'precision': 0.7198177676537585, 'recall': 0.7802469135802469, 'f1-score': 0.7488151658767772, 'support': 405.0}, '1.0': {'precision': 0.7700258397932817, 'recall': 0.7078384798099763, 'f1-score': 0.7376237623762376, 'support': 421.0}, 'accuracy': 0.7433414043583535, 'macro avg': {'precision': 0.7449218037235201, 'recall': 0.7440426966951116, 'f1-score': 0.7432194641265074, 'support': 826.0}, 'weighted avg': {'precision': 0.7454080804512636, 'recall': 0.7433414043583535, 'f1-score': 0.7431110728093109, 'support': 826.0}}\n",
      "XGBoost_Basic - test - Accuracy: 0.7397094430992736, ROC_AUC: 0.8123923863923511, PRC_AUC: 0.7956417786853516\n",
      "{'0.0': {'precision': 0.7607655502392344, 'recall': 0.7344110854503464, 'f1-score': 0.7473560517038778, 'support': 433.0}, '1.0': {'precision': 0.7181372549019608, 'recall': 0.7455470737913485, 'f1-score': 0.731585518102372, 'support': 393.0}, 'accuracy': 0.7397094430992736, 'macro avg': {'precision': 0.7394514025705976, 'recall': 0.7399790796208474, 'f1-score': 0.7394707849031249, 'support': 826.0}, 'weighted avg': {'precision': 0.7404835646853015, 'recall': 0.7397094430992736, 'f1-score': 0.7398526380169629, 'support': 826.0}}\n",
      "Best hyperparameters:\n",
      " {'learning_rate': 0.1, 'max_depth': 7, 'min_child_weight': 5, 'n_estimators': 50}\n",
      "XGBoost_Optimized - train - Accuracy: 0.9451948051948051, ROC_AUC: 0.9878149949695799, PRC_AUC: 0.9889547944317408\n",
      "{'0.0': {'precision': 0.9319659829914958, 'recall': 0.9613003095975232, 'f1-score': 0.9464058928117857, 'support': 1938.0}, '1.0': {'precision': 0.9594813614262561, 'recall': 0.9288702928870293, 'f1-score': 0.9439277172468775, 'support': 1912.0}, 'accuracy': 0.9451948051948051, 'macro avg': {'precision': 0.945723672208876, 'recall': 0.9450853012422762, 'f1-score': 0.9451668050293316, 'support': 3850.0}, 'weighted avg': {'precision': 0.9456307631388365, 'recall': 0.9451948051948051, 'f1-score': 0.9451751728948755, 'support': 3850.0}}\n",
      "XGBoost_Optimized - val - Accuracy: 0.7409200968523002, ROC_AUC: 0.8165215096331485, PRC_AUC: 0.8246578204161349\n",
      "{'0.0': {'precision': 0.7117516629711752, 'recall': 0.7925925925925926, 'f1-score': 0.75, 'support': 405.0}, '1.0': {'precision': 0.776, 'recall': 0.6912114014251781, 'f1-score': 0.7311557788944724, 'support': 421.0}, 'accuracy': 0.7409200968523002, 'macro avg': {'precision': 0.7438758314855876, 'recall': 0.7419019970088854, 'f1-score': 0.7405778894472361, 'support': 826.0}, 'weighted avg': {'precision': 0.744498091408385, 'recall': 0.7409200968523002, 'f1-score': 0.7403953788312019, 'support': 826.0}}\n",
      "XGBoost_Optimized - test - Accuracy: 0.7457627118644068, ROC_AUC: 0.8121103138644523, PRC_AUC: 0.7972641813469104\n",
      "{'0.0': {'precision': 0.7686746987951807, 'recall': 0.7367205542725174, 'f1-score': 0.7523584905660378, 'support': 433.0}, '1.0': {'precision': 0.7226277372262774, 'recall': 0.7557251908396947, 'f1-score': 0.7388059701492538, 'support': 393.0}, 'accuracy': 0.7457627118644068, 'macro avg': {'precision': 0.7456512180107291, 'recall': 0.746222872556106, 'f1-score': 0.7455822303576458, 'support': 826.0}, 'weighted avg': {'precision': 0.7467661565475063, 'recall': 0.7457627118644068, 'f1-score': 0.7459103785517568, 'support': 826.0}}\n"
     ]
    }
   ],
   "source": [
    "def tune_clf_hyperparameters(clf, param_grid, X_train, y_train):\n",
    "    cv = StratifiedKFold(n_splits=5, shuffle=True, random_state=0)\n",
    "    clf_grid = GridSearchCV(clf, param_grid, cv=cv, scoring='accuracy', n_jobs=-1)\n",
    "    clf_grid.fit(X_train, y_train)\n",
    "    print(\"Best hyperparameters:\\n\", clf_grid.best_params_)\n",
    "    return clf_grid.best_estimator_\n",
    "\n",
    "def tune_and_evaluate_xgboost(X_train, y_train, X_val, y_val, X_test, y_test, results_dir):\n",
    "    # Basic XGBoost model\n",
    "    basic_model = xgb.XGBClassifier(objective=\"binary:logistic\", random_state=42)\n",
    "    basic_model.fit(X_train, y_train)\n",
    "    \n",
    "    splits = [(X_train, y_train, 'train'), (X_val, y_val, 'val'), (X_test, y_test, 'test')]\n",
    "    basic_results, basic_roc_data, basic_prc_data, test_roc_data, test_prc_data = evaluate_classification(basic_model, splits, model_name=\"XGBoost_Basic\")\n",
    "    save_model_results(basic_results, \"XGBoost_Basic\", results_dir)\n",
    "    \n",
    "    plot_roc_curves(basic_roc_data, \"XGBoost_Basic\", results_dir, filename='roc_curves.png')\n",
    "    plot_prc_curves(basic_prc_data, \"XGBoost_Basic\", results_dir, filename='prc_curves.png')\n",
    "    \n",
    "    all_roc_data[\"XGBoost_Basic\"] = test_roc_data[\"XGBoost_Basic\"]\n",
    "    all_prc_data[\"XGBoost_Basic\"] = test_prc_data[\"XGBoost_Basic\"]\n",
    "\n",
    "    # Hyperparameter-tuned XGBoost model\n",
    "    xgb_param_grid = {\n",
    "        'max_depth': range(3, 10, 2),\n",
    "        'min_child_weight': range(1, 6, 2),\n",
    "        'learning_rate': [0.0001, 0.01, 0.1],\n",
    "        'n_estimators': [50, 200]\n",
    "    }\n",
    "    xgb_clf = xgb.XGBClassifier(random_state=0)\n",
    "    xgb_opt = tune_clf_hyperparameters(xgb_clf, xgb_param_grid, X_train, y_train)\n",
    "\n",
    "    results, roc_data, prc_data, test_roc_data, test_prc_data = evaluate_classification(xgb_opt, splits, model_name=\"XGBoost_Optimized\")\n",
    "    save_model_results(results, \"XGBoost_Optimized\", results_dir)\n",
    "\n",
    "    plot_roc_curves(roc_data, \"XGBoost_Optimized\", results_dir, filename='roc_curves.png')\n",
    "    plot_prc_curves(prc_data, \"XGBoost_Optimized\", results_dir, filename='prc_curves.png')\n",
    "\n",
    "    all_roc_data[\"XGBoost_Optimized\"] = test_roc_data[\"XGBoost_Optimized\"]\n",
    "    all_prc_data[\"XGBoost_Optimized\"] = test_prc_data[\"XGBoost_Optimized\"]\n",
    "\n",
    "    return results, roc_data, prc_data\n",
    "\n",
    "results_xgb, roc_data_xgb, prc_data_xgb = tune_and_evaluate_xgboost(X_train, y_train, X_val, y_val, X_test, y_test, results_dir)\n"
   ]
  },
  {
   "cell_type": "markdown",
   "metadata": {},
   "source": [
    "## SVM Classifier"
   ]
  },
  {
   "cell_type": "code",
   "execution_count": 77,
   "metadata": {},
   "outputs": [
    {
     "name": "stdout",
     "output_type": "stream",
     "text": [
      "SVM_Basic - train - Accuracy: 0.7475324675324675, ROC_AUC: 0.8324802669361072, PRC_AUC: 0.8042438594898911\n",
      "{'0.0': {'precision': 0.75, 'recall': 0.7476780185758514, 'f1-score': 0.7488372093023256, 'support': 1938.0}, '1.0': {'precision': 0.7450469238790407, 'recall': 0.7473849372384938, 'f1-score': 0.7462140992167102, 'support': 1912.0}, 'accuracy': 0.7475324675324675, 'macro avg': {'precision': 0.7475234619395204, 'recall': 0.7475314779071726, 'f1-score': 0.7475256542595179, 'support': 3850.0}, 'weighted avg': {'precision': 0.7475401866121365, 'recall': 0.7475324675324675, 'f1-score': 0.7475345115143524, 'support': 3850.0}}\n",
      "SVM_Basic - val - Accuracy: 0.6610169491525424, ROC_AUC: 0.7211284126565203, PRC_AUC: 0.7205657414026476\n",
      "{'0.0': {'precision': 0.6477541371158393, 'recall': 0.6765432098765433, 'f1-score': 0.6618357487922706, 'support': 405.0}, '1.0': {'precision': 0.674937965260546, 'recall': 0.6460807600950119, 'f1-score': 0.6601941747572816, 'support': 421.0}, 'accuracy': 0.6610169491525424, 'macro avg': {'precision': 0.6613460511881926, 'recall': 0.6613119849857776, 'f1-score': 0.661014961774776, 'support': 826.0}, 'weighted avg': {'precision': 0.6616093328167127, 'recall': 0.6610169491525424, 'f1-score': 0.6609990627526453, 'support': 826.0}}\n",
      "SVM_Basic - test - Accuracy: 0.6949152542372882, ROC_AUC: 0.7524049621258866, PRC_AUC: 0.7274134996299855\n",
      "{'0.0': {'precision': 0.711943793911007, 'recall': 0.7020785219399538, 'f1-score': 0.7069767441860465, 'support': 433.0}, '1.0': {'precision': 0.6766917293233082, 'recall': 0.6870229007633588, 'f1-score': 0.6818181818181818, 'support': 393.0}, 'accuracy': 0.6949152542372882, 'macro avg': {'precision': 0.6943177616171576, 'recall': 0.6945507113516562, 'f1-score': 0.6943974630021141, 'support': 826.0}, 'weighted avg': {'precision': 0.6951713225030584, 'recall': 0.6949152542372882, 'f1-score': 0.6950066291611423, 'support': 826.0}}\n",
      "Best parameters: {'C': 10, 'gamma': 0.001, 'kernel': 'rbf'}\n",
      "SVM_Optimized - train - Accuracy: 0.9277922077922078, ROC_AUC: 0.9736601918900131, PRC_AUC: 0.9578576299395598\n",
      "{'0.0': {'precision': 0.9424307036247335, 'recall': 0.9122807017543859, 'f1-score': 0.9271106449921342, 'support': 1938.0}, '1.0': {'precision': 0.9138804457953394, 'recall': 0.9435146443514645, 'f1-score': 0.9284611425630468, 'support': 1912.0}, 'accuracy': 0.9277922077922078, 'macro avg': {'precision': 0.9281555747100365, 'recall': 0.9278976730529251, 'f1-score': 0.9277858937775905, 'support': 3850.0}, 'weighted avg': {'precision': 0.9282519781780317, 'recall': 0.9277922077922078, 'f1-score': 0.9277813336559224, 'support': 3850.0}}\n",
      "SVM_Optimized - val - Accuracy: 0.6513317191283293, ROC_AUC: 0.7160640450426674, PRC_AUC: 0.7130126239401813\n",
      "{'0.0': {'precision': 0.6363636363636364, 'recall': 0.674074074074074, 'f1-score': 0.6546762589928058, 'support': 405.0}, '1.0': {'precision': 0.6675062972292192, 'recall': 0.6294536817102138, 'f1-score': 0.6479217603911981, 'support': 421.0}, 'accuracy': 0.6513317191283293, 'macro avg': {'precision': 0.6519349667964278, 'recall': 0.651763877892144, 'f1-score': 0.6512990096920019, 'support': 826.0}, 'weighted avg': {'precision': 0.652236590630477, 'recall': 0.6513317191283293, 'f1-score': 0.6512335908193472, 'support': 826.0}}\n",
      "SVM_Optimized - test - Accuracy: 0.6476997578692494, ROC_AUC: 0.7200959046594856, PRC_AUC: 0.7015649246646387\n",
      "{'0.0': {'precision': 0.6666666666666666, 'recall': 0.6558891454965358, 'f1-score': 0.6612339930151339, 'support': 433.0}, '1.0': {'precision': 0.6275, 'recall': 0.638676844783715, 'f1-score': 0.6330390920554855, 'support': 393.0}, 'accuracy': 0.6476997578692494, 'macro avg': {'precision': 0.6470833333333332, 'recall': 0.6472829951401253, 'f1-score': 0.6471365425353097, 'support': 826.0}, 'weighted avg': {'precision': 0.6480316787732041, 'recall': 0.6476997578692494, 'f1-score': 0.64781922778857, 'support': 826.0}}\n"
     ]
    }
   ],
   "source": [
    "def tune_and_evaluate_svm(X_train, y_train, X_val, y_val, X_test, y_test, results_dir):\n",
    "    # Train a basic SVM model\n",
    "    basic_svm = SVC(probability=True, random_state=42)\n",
    "    basic_svm.fit(X_train, y_train)\n",
    "    \n",
    "    splits = [(X_train, y_train, 'train'), (X_val, y_val, 'val'), (X_test, y_test, 'test')]\n",
    "    basic_results, basic_roc_data, basic_prc_data, test_roc_data, test_prc_data = evaluate_classification(basic_svm, splits, model_name=\"SVM_Basic\")\n",
    "    save_model_results(basic_results, \"SVM_Basic\", results_dir)\n",
    "    \n",
    "    plot_roc_curves(basic_roc_data, \"SVM_Basic\", results_dir, filename='roc_curves.png')\n",
    "    plot_prc_curves(basic_prc_data, \"SVM_Basic\", results_dir, filename='prc_curves.png')\n",
    "\n",
    "    all_roc_data[\"SVM_Basic\"] = test_roc_data[\"SVM_Basic\"]\n",
    "    all_prc_data[\"SVM_Basic\"] = test_prc_data[\"SVM_Basic\"]\n",
    "\n",
    "    # Hyperparameter-tuned SVM model\n",
    "    svm = SVC(probability=True, random_state=42)\n",
    "    param_grid = {\n",
    "        'C': [0.1, 1, 10, 100],\n",
    "        'gamma': [1, 0.1, 0.01, 0.001],\n",
    "        'kernel': ['rbf', 'poly', 'sigmoid']\n",
    "    }\n",
    "    cv_svm = GridSearchCV(estimator=svm, param_grid=param_grid, scoring='accuracy', cv=3, n_jobs=-1)\n",
    "    cv_svm.fit(X_train, y_train)\n",
    "    best_params = cv_svm.best_params_\n",
    "    print(\"Best parameters:\", best_params)\n",
    "\n",
    "    results, roc_data, prc_data, test_roc_data, test_prc_data = evaluate_classification(cv_svm.best_estimator_, splits, model_name=\"SVM_Optimized\")\n",
    "    save_model_results(results, \"SVM_Optimized\", results_dir)\n",
    "\n",
    "    plot_roc_curves(roc_data, \"SVM_Optimized\", results_dir, filename='roc_curves.png')\n",
    "    plot_prc_curves(prc_data, \"SVM_Optimized\", results_dir, filename='prc_curves.png')\n",
    "\n",
    "    all_roc_data[\"SVM_Optimized\"] = test_roc_data[\"SVM_Optimized\"]\n",
    "    all_prc_data[\"SVM_Optimized\"] = test_prc_data[\"SVM_Optimized\"]\n",
    "\n",
    "    return results, roc_data, prc_data\n",
    "\n",
    "results_svm, roc_data_svm, prc_data_svm = tune_and_evaluate_svm(X_train, y_train, X_val, y_val, X_test, y_test, results_dir)"
   ]
  },
  {
   "cell_type": "markdown",
   "metadata": {},
   "source": [
    "## Neural Network Classifier"
   ]
  },
  {
   "cell_type": "code",
   "execution_count": 57,
   "metadata": {},
   "outputs": [
    {
     "name": "stderr",
     "output_type": "stream",
     "text": [
      "/Users/emmaolsen/Desktop/microbiome-ML/venv/lib/python3.10/site-packages/keras/src/layers/core/dense.py:87: UserWarning: Do not pass an `input_shape`/`input_dim` argument to a layer. When using Sequential models, prefer using an `Input(shape)` object as the first layer in the model instead.\n",
      "  super().__init__(activity_regularizer=activity_regularizer, **kwargs)\n"
     ]
    },
    {
     "name": "stdout",
     "output_type": "stream",
     "text": [
      "Epoch 1/10\n",
      "\u001b[1m61/61\u001b[0m \u001b[32m━━━━━━━━━━━━━━━━━━━━\u001b[0m\u001b[37m\u001b[0m \u001b[1m1s\u001b[0m 3ms/step - accuracy: 0.5118 - loss: 1.2697 - val_accuracy: 0.6138 - val_loss: 0.6660\n",
      "Epoch 2/10\n",
      "\u001b[1m61/61\u001b[0m \u001b[32m━━━━━━━━━━━━━━━━━━━━\u001b[0m\u001b[37m\u001b[0m \u001b[1m0s\u001b[0m 1ms/step - accuracy: 0.6440 - loss: 0.6209 - val_accuracy: 0.6320 - val_loss: 0.6450\n",
      "Epoch 3/10\n",
      "\u001b[1m61/61\u001b[0m \u001b[32m━━━━━━━━━━━━━━━━━━━━\u001b[0m\u001b[37m\u001b[0m \u001b[1m0s\u001b[0m 1ms/step - accuracy: 0.6840 - loss: 0.5822 - val_accuracy: 0.6453 - val_loss: 0.6356\n",
      "Epoch 4/10\n",
      "\u001b[1m61/61\u001b[0m \u001b[32m━━━━━━━━━━━━━━━━━━━━\u001b[0m\u001b[37m\u001b[0m \u001b[1m0s\u001b[0m 1ms/step - accuracy: 0.7268 - loss: 0.5361 - val_accuracy: 0.6441 - val_loss: 0.6336\n",
      "Epoch 5/10\n",
      "\u001b[1m61/61\u001b[0m \u001b[32m━━━━━━━━━━━━━━━━━━━━\u001b[0m\u001b[37m\u001b[0m \u001b[1m0s\u001b[0m 2ms/step - accuracy: 0.7312 - loss: 0.5280 - val_accuracy: 0.6610 - val_loss: 0.6277\n",
      "Epoch 6/10\n",
      "\u001b[1m61/61\u001b[0m \u001b[32m━━━━━━━━━━━━━━━━━━━━\u001b[0m\u001b[37m\u001b[0m \u001b[1m0s\u001b[0m 3ms/step - accuracy: 0.7558 - loss: 0.5011 - val_accuracy: 0.6731 - val_loss: 0.6217\n",
      "Epoch 7/10\n",
      "\u001b[1m61/61\u001b[0m \u001b[32m━━━━━━━━━━━━━━━━━━━━\u001b[0m\u001b[37m\u001b[0m \u001b[1m0s\u001b[0m 1ms/step - accuracy: 0.7769 - loss: 0.4764 - val_accuracy: 0.6731 - val_loss: 0.6197\n",
      "Epoch 8/10\n",
      "\u001b[1m61/61\u001b[0m \u001b[32m━━━━━━━━━━━━━━━━━━━━\u001b[0m\u001b[37m\u001b[0m \u001b[1m0s\u001b[0m 906us/step - accuracy: 0.7978 - loss: 0.4485 - val_accuracy: 0.6659 - val_loss: 0.6287\n",
      "Epoch 9/10\n",
      "\u001b[1m61/61\u001b[0m \u001b[32m━━━━━━━━━━━━━━━━━━━━\u001b[0m\u001b[37m\u001b[0m \u001b[1m0s\u001b[0m 974us/step - accuracy: 0.8010 - loss: 0.4375 - val_accuracy: 0.6562 - val_loss: 0.6360\n",
      "Epoch 10/10\n",
      "\u001b[1m61/61\u001b[0m \u001b[32m━━━━━━━━━━━━━━━━━━━━\u001b[0m\u001b[37m\u001b[0m \u001b[1m0s\u001b[0m 839us/step - accuracy: 0.8237 - loss: 0.4116 - val_accuracy: 0.6695 - val_loss: 0.6392\n",
      "\u001b[1m26/26\u001b[0m \u001b[32m━━━━━━━━━━━━━━━━━━━━\u001b[0m\u001b[37m\u001b[0m \u001b[1m0s\u001b[0m 525us/step - accuracy: 0.6514 - loss: 0.6611\n",
      "Neural Network Test accuracy: 0.6634382605552673\n",
      "\u001b[1m26/26\u001b[0m \u001b[32m━━━━━━━━━━━━━━━━━━━━\u001b[0m\u001b[37m\u001b[0m \u001b[1m0s\u001b[0m 2ms/step\n",
      "\u001b[1m26/26\u001b[0m \u001b[32m━━━━━━━━━━━━━━━━━━━━\u001b[0m\u001b[37m\u001b[0m \u001b[1m0s\u001b[0m 484us/step\n"
     ]
    }
   ],
   "source": [
    "def tune_and_evaluate_neural_network(X_train, y_train, X_val, y_val, X_test, y_test, results_dir):\n",
    "    # Define the neural network model\n",
    "    model = tf.keras.Sequential([\n",
    "        tf.keras.layers.Dense(64, activation='relu', input_shape=(X_train.shape[1],)),\n",
    "        tf.keras.layers.Dense(32, activation='relu'),\n",
    "        tf.keras.layers.Dense(1, activation='sigmoid')\n",
    "    ])\n",
    "    \n",
    "    # Compile the model, i.e., define the loss function and the optimizer\n",
    "    model.compile(optimizer='adam', loss='binary_crossentropy', metrics=['accuracy'])\n",
    "\n",
    "    # Train the model\n",
    "    model.fit(X_train, y_train, epochs=10, batch_size=64, validation_data=(X_val, y_val))\n",
    "\n",
    "    # Evaluate the model on the test set\n",
    "    test_loss, test_acc = model.evaluate(X_test, y_test)\n",
    "    print('Neural Network Test accuracy:', test_acc)\n",
    "\n",
    "    # Prepare results for consistency, this step is to compare with other models\n",
    "    test_predictions = (model.predict(X_test) > 0.5).astype(\"int32\")\n",
    "    test_pred_probs = model.predict(X_test).flatten()\n",
    "    test_report = classification_report(y_test, test_predictions, output_dict=True)\n",
    "\n",
    "    # Calculate ROC and PRC data\n",
    "    fpr, tpr, _ = roc_curve(y_test, test_pred_probs)\n",
    "    precision, recall, _ = precision_recall_curve(y_test, test_pred_probs)\n",
    "    roc_auc = roc_auc_score(y_test, test_pred_probs)\n",
    "    prc_auc = auc(recall, precision)\n",
    "\n",
    "    results = {\n",
    "        'train': ('Not Evaluated', {}),\n",
    "        'val': ('Not Evaluated', {}),\n",
    "        'test': (test_acc, test_report)\n",
    "    }\n",
    "    save_model_results(results, \"Neural_Network\", results_dir)\n",
    "\n",
    "    # Store ROC and PRC data for the test set\n",
    "    test_roc_data = {\"Neural_Network\": (fpr, tpr, roc_auc)}\n",
    "    test_prc_data = {\"Neural_Network\": (precision, recall, prc_auc)}\n",
    "\n",
    "    all_roc_data[\"Neural_Network\"] = test_roc_data[\"Neural_Network\"]\n",
    "    all_prc_data[\"Neural_Network\"] = test_prc_data[\"Neural_Network\"]\n",
    "\n",
    "    # Plot ROC and PRC curves\n",
    "    plot_roc_curves(test_roc_data, \"Neural_Network\", results_dir, filename='roc_curves.png')\n",
    "    plot_prc_curves(test_prc_data, \"Neural_Network\", results_dir, filename='prc_curves.png')\n",
    "\n",
    "    return results, test_roc_data, test_prc_data"
   ]
  },
  {
   "cell_type": "code",
   "execution_count": 78,
   "metadata": {},
   "outputs": [
    {
     "name": "stdout",
     "output_type": "stream",
     "text": [
      "Epoch 1/10\n"
     ]
    },
    {
     "name": "stderr",
     "output_type": "stream",
     "text": [
      "/Users/emmaolsen/Desktop/microbiome-ML/venv/lib/python3.10/site-packages/keras/src/layers/core/dense.py:87: UserWarning: Do not pass an `input_shape`/`input_dim` argument to a layer. When using Sequential models, prefer using an `Input(shape)` object as the first layer in the model instead.\n",
      "  super().__init__(activity_regularizer=activity_regularizer, **kwargs)\n"
     ]
    },
    {
     "name": "stdout",
     "output_type": "stream",
     "text": [
      "\u001b[1m61/61\u001b[0m \u001b[32m━━━━━━━━━━━━━━━━━━━━\u001b[0m\u001b[37m\u001b[0m \u001b[1m1s\u001b[0m 2ms/step - accuracy: 0.5583 - loss: 0.7527 - val_accuracy: 0.6017 - val_loss: 0.6666\n",
      "Epoch 2/10\n",
      "\u001b[1m61/61\u001b[0m \u001b[32m━━━━━━━━━━━━━━━━━━━━\u001b[0m\u001b[37m\u001b[0m \u001b[1m0s\u001b[0m 919us/step - accuracy: 0.6598 - loss: 0.6060 - val_accuracy: 0.6356 - val_loss: 0.6478\n",
      "Epoch 3/10\n",
      "\u001b[1m61/61\u001b[0m \u001b[32m━━━━━━━━━━━━━━━━━━━━\u001b[0m\u001b[37m\u001b[0m \u001b[1m0s\u001b[0m 1ms/step - accuracy: 0.7061 - loss: 0.5597 - val_accuracy: 0.6441 - val_loss: 0.6361\n",
      "Epoch 4/10\n",
      "\u001b[1m61/61\u001b[0m \u001b[32m━━━━━━━━━━━━━━━━━━━━\u001b[0m\u001b[37m\u001b[0m \u001b[1m0s\u001b[0m 957us/step - accuracy: 0.7375 - loss: 0.5229 - val_accuracy: 0.6501 - val_loss: 0.6380\n",
      "Epoch 5/10\n",
      "\u001b[1m61/61\u001b[0m \u001b[32m━━━━━━━━━━━━━━━━━━━━\u001b[0m\u001b[37m\u001b[0m \u001b[1m0s\u001b[0m 1ms/step - accuracy: 0.7652 - loss: 0.4985 - val_accuracy: 0.6501 - val_loss: 0.6310\n",
      "Epoch 6/10\n",
      "\u001b[1m61/61\u001b[0m \u001b[32m━━━━━━━━━━━━━━━━━━━━\u001b[0m\u001b[37m\u001b[0m \u001b[1m0s\u001b[0m 3ms/step - accuracy: 0.7837 - loss: 0.4691 - val_accuracy: 0.6610 - val_loss: 0.6344\n",
      "Epoch 7/10\n",
      "\u001b[1m61/61\u001b[0m \u001b[32m━━━━━━━━━━━━━━━━━━━━\u001b[0m\u001b[37m\u001b[0m \u001b[1m0s\u001b[0m 2ms/step - accuracy: 0.7858 - loss: 0.4481 - val_accuracy: 0.6646 - val_loss: 0.6283\n",
      "Epoch 8/10\n",
      "\u001b[1m61/61\u001b[0m \u001b[32m━━━━━━━━━━━━━━━━━━━━\u001b[0m\u001b[37m\u001b[0m \u001b[1m0s\u001b[0m 927us/step - accuracy: 0.8087 - loss: 0.4236 - val_accuracy: 0.6525 - val_loss: 0.6409\n",
      "Epoch 9/10\n",
      "\u001b[1m61/61\u001b[0m \u001b[32m━━━━━━━━━━━━━━━━━━━━\u001b[0m\u001b[37m\u001b[0m \u001b[1m0s\u001b[0m 870us/step - accuracy: 0.8286 - loss: 0.3956 - val_accuracy: 0.6501 - val_loss: 0.6629\n",
      "Epoch 10/10\n",
      "\u001b[1m61/61\u001b[0m \u001b[32m━━━━━━━━━━━━━━━━━━━━\u001b[0m\u001b[37m\u001b[0m \u001b[1m0s\u001b[0m 1ms/step - accuracy: 0.8419 - loss: 0.3865 - val_accuracy: 0.6332 - val_loss: 0.7052\n",
      "\u001b[1m26/26\u001b[0m \u001b[32m━━━━━━━━━━━━━━━━━━━━\u001b[0m\u001b[37m\u001b[0m \u001b[1m0s\u001b[0m 355us/step - accuracy: 0.6607 - loss: 0.6901\n",
      "Neural Network Test accuracy: 0.6634382605552673\n",
      "\u001b[1m26/26\u001b[0m \u001b[32m━━━━━━━━━━━━━━━━━━━━\u001b[0m\u001b[37m\u001b[0m \u001b[1m0s\u001b[0m 924us/step\n",
      "\u001b[1m26/26\u001b[0m \u001b[32m━━━━━━━━━━━━━━━━━━━━\u001b[0m\u001b[37m\u001b[0m \u001b[1m0s\u001b[0m 328us/step\n"
     ]
    }
   ],
   "source": [
    "results_nn, roc_data_nn, prc_data_nn = tune_and_evaluate_neural_network(X_train, y_train, X_val, y_val, X_test, y_test, results_dir)"
   ]
  },
  {
   "cell_type": "markdown",
   "metadata": {},
   "source": [
    "## Basic Logistic Regression"
   ]
  },
  {
   "cell_type": "code",
   "execution_count": 79,
   "metadata": {},
   "outputs": [],
   "source": [
    "def evaluate_logistic_regression(X_train, y_train, X_val, y_val, X_test, y_test, results_dir):\n",
    "    # train a basic Logistic Regression model\n",
    "    basic_lr = LogisticRegression(random_state=42, max_iter=10000)\n",
    "    basic_lr.fit(X_train, y_train)\n",
    "    \n",
    "    splits = [(X_train, y_train, 'train'), (X_val, y_val, 'val'), (X_test, y_test, 'test')]\n",
    "    basic_results, basic_roc_data, basic_prc_data, test_roc_data, test_prc_data = evaluate_classification(basic_lr, splits, model_name=\"Logistic_Regression_Basic\")\n",
    "    save_model_results(basic_results, \"Logistic_Regression_Basic\", results_dir)\n",
    "    \n",
    "    plot_roc_curves(basic_roc_data, \"Logistic_Regression_Basic\", results_dir, filename='roc_curves.png')\n",
    "    plot_prc_curves(basic_prc_data, \"Logistic_Regression_Basic\", results_dir, filename='prc_curves.png')\n",
    "\n",
    "    all_roc_data[\"Logistic_Regression_Basic\"] = test_roc_data[\"Logistic_Regression_Basic\"]\n",
    "    all_prc_data[\"Logistic_Regression_Basic\"] = test_prc_data[\"Logistic_Regression_Basic\"]\n",
    "\n",
    "    return basic_results, basic_roc_data, basic_prc_data"
   ]
  },
  {
   "cell_type": "code",
   "execution_count": 80,
   "metadata": {},
   "outputs": [
    {
     "name": "stdout",
     "output_type": "stream",
     "text": [
      "Logistic_Regression_Basic - train - Accuracy: 0.7212987012987013, ROC_AUC: 0.7982855551381531, PRC_AUC: 0.7839181751407068\n",
      "{'0.0': {'precision': 0.7161419290354822, 'recall': 0.739422084623323, 'f1-score': 0.7275958365067275, 'support': 1938.0}, '1.0': {'precision': 0.7268793942671714, 'recall': 0.702928870292887, 'f1-score': 0.714703536293539, 'support': 1912.0}, 'accuracy': 0.7212987012987013, 'macro avg': {'precision': 0.7215106616513268, 'recall': 0.721175477458105, 'f1-score': 0.7211496864001332, 'support': 3850.0}, 'weighted avg': {'precision': 0.7214744052752198, 'recall': 0.7212987012987013, 'f1-score': 0.7211932188424116, 'support': 3850.0}}\n",
      "Logistic_Regression_Basic - val - Accuracy: 0.6743341404358354, ROC_AUC: 0.7304184628016774, PRC_AUC: 0.7202329710737574\n",
      "{'0.0': {'precision': 0.6538461538461539, 'recall': 0.7135802469135802, 'f1-score': 0.6824085005903188, 'support': 405.0}, '1.0': {'precision': 0.6979166666666666, 'recall': 0.6365795724465558, 'f1-score': 0.6658385093167701, 'support': 421.0}, 'accuracy': 0.6743341404358354, 'macro avg': {'precision': 0.6758814102564102, 'recall': 0.675079909680068, 'f1-score': 0.6741235049535445, 'support': 826.0}, 'weighted avg': {'precision': 0.6763082433103619, 'recall': 0.6743341404358354, 'f1-score': 0.6739630207765609, 'support': 826.0}}\n",
      "Logistic_Regression_Basic - test - Accuracy: 0.6876513317191283, ROC_AUC: 0.7532688092425764, PRC_AUC: 0.7189462609308908\n",
      "{'0.0': {'precision': 0.7078384798099763, 'recall': 0.6882217090069284, 'f1-score': 0.6978922716627635, 'support': 433.0}, '1.0': {'precision': 0.6666666666666666, 'recall': 0.6870229007633588, 'f1-score': 0.6766917293233082, 'support': 393.0}, 'accuracy': 0.6876513317191283, 'macro avg': {'precision': 0.6872525732383215, 'recall': 0.6876223048851435, 'f1-score': 0.6872920004930358, 'support': 826.0}, 'weighted avg': {'precision': 0.6882494694403386, 'recall': 0.6876513317191283, 'f1-score': 0.687805330816025, 'support': 826.0}}\n"
     ]
    }
   ],
   "source": [
    "basic_results, basic_roc_data, basic_prc_data = evaluate_logistic_regression(X_train, y_train, X_val, y_val, X_test, y_test, results_dir)"
   ]
  },
  {
   "cell_type": "markdown",
   "metadata": {},
   "source": [
    "## Elastic Net Logistic Regression"
   ]
  },
  {
   "cell_type": "code",
   "execution_count": 81,
   "metadata": {},
   "outputs": [
    {
     "name": "stdout",
     "output_type": "stream",
     "text": [
      "Elastic_Net_Logistic_Regression - train - Accuracy: 0.6971428571428572, ROC_AUC: 0.7653781342971014, PRC_AUC: 0.742435903355464\n",
      "{'0.0': {'precision': 0.6918489065606361, 'recall': 0.718266253869969, 'f1-score': 0.7048101265822785, 'support': 1938.0}, '1.0': {'precision': 0.7029379760609358, 'recall': 0.6757322175732218, 'f1-score': 0.6890666666666667, 'support': 1912.0}, 'accuracy': 0.6971428571428572, 'macro avg': {'precision': 0.697393441310786, 'recall': 0.6969992357215954, 'f1-score': 0.6969383966244727, 'support': 3850.0}, 'weighted avg': {'precision': 0.6973559976994862, 'recall': 0.6971428571428572, 'f1-score': 0.6969915563592526, 'support': 3850.0}}\n",
      "Elastic_Net_Logistic_Regression - val - Accuracy: 0.6731234866828087, ROC_AUC: 0.7345708336998915, PRC_AUC: 0.7281277817451977\n",
      "{'0.0': {'precision': 0.6503340757238307, 'recall': 0.7209876543209877, 'f1-score': 0.6838407494145199, 'support': 405.0}, '1.0': {'precision': 0.7002652519893899, 'recall': 0.6270783847980997, 'f1-score': 0.6616541353383458, 'support': 421.0}, 'accuracy': 0.6731234866828087, 'macro avg': {'precision': 0.6752996638566103, 'recall': 0.6740330195595436, 'f1-score': 0.6727474423764328, 'support': 826.0}, 'weighted avg': {'precision': 0.6757832587841219, 'recall': 0.6731234866828087, 'f1-score': 0.6725325599156466, 'support': 826.0}}\n",
      "Elastic_Net_Logistic_Regression - test - Accuracy: 0.6815980629539952, ROC_AUC: 0.7572824662541355, PRC_AUC: 0.7148570575931941\n",
      "{'0.0': {'precision': 0.6967592592592593, 'recall': 0.6951501154734411, 'f1-score': 0.6959537572254335, 'support': 433.0}, '1.0': {'precision': 0.6649746192893401, 'recall': 0.6666666666666666, 'f1-score': 0.6658195679796697, 'support': 393.0}, 'accuracy': 0.6815980629539952, 'macro avg': {'precision': 0.6808669392742996, 'recall': 0.6809083910700539, 'f1-score': 0.6808866626025516, 'support': 826.0}, 'weighted avg': {'precision': 0.6816365431476634, 'recall': 0.6815980629539952, 'f1-score': 0.6816163039886477, 'support': 826.0}}\n"
     ]
    }
   ],
   "source": [
    "def evaluate_elastic_net_logistic_regression(X_train, y_train, X_val, y_val, X_test, y_test, results_dir):\n",
    "    # train an Elastic Net Logistic Regression model\n",
    "    elastic_net_lr = LogisticRegressionCV(cv=5, penalty='elasticnet', solver='saga', l1_ratios=[0.5], random_state=42, max_iter=10000)\n",
    "    elastic_net_lr.fit(X_train, y_train)\n",
    "    \n",
    "    splits = [(X_train, y_train, 'train'), (X_val, y_val, 'val'), (X_test, y_test, 'test')]\n",
    "    enet_results, enet_roc_data, enet_prc_data, test_roc_data, test_prc_data = evaluate_classification(elastic_net_lr, splits, model_name=\"Elastic_Net_Logistic_Regression\")\n",
    "    save_model_results(enet_results, \"Elastic_Net_Logistic_Regression\", results_dir)\n",
    "    \n",
    "    plot_roc_curves(enet_roc_data, \"Elastic_Net_Logistic_Regression\", results_dir, filename='roc_curves.png')\n",
    "    plot_prc_curves(enet_prc_data, \"Elastic_Net_Logistic_Regression\", results_dir, filename='prc_curves.png')\n",
    "\n",
    "    all_roc_data[\"Elastic_Net_Logistic_Regression\"] = test_roc_data[\"Elastic_Net_Logistic_Regression\"]\n",
    "    all_prc_data[\"Elastic_Net_Logistic_Regression\"] = test_prc_data[\"Elastic_Net_Logistic_Regression\"]\n",
    "\n",
    "    return enet_results, enet_roc_data, enet_prc_data\n",
    "\n",
    "enet_results, enet_roc_data, enet_prc_data = evaluate_elastic_net_logistic_regression(X_train, y_train, X_val, y_val, X_test, y_test, results_dir)\n"
   ]
  },
  {
   "cell_type": "markdown",
   "metadata": {},
   "source": [
    "## Baseline: Predicting Majority Class maybe? (can't define precision when a label has no predicted samples)"
   ]
  },
  {
   "cell_type": "code",
   "execution_count": 82,
   "metadata": {},
   "outputs": [
    {
     "name": "stdout",
     "output_type": "stream",
     "text": [
      "Majority_Class_Classifier - train - Accuracy: 0.5033766233766234, ROC_AUC: 0.5, PRC_AUC: 0.7483116883116883\n",
      "{'0.0': {'precision': 0.5033766233766234, 'recall': 1.0, 'f1-score': 0.6696613683483068, 'support': 1938.0}, '1.0': {'precision': 0.0, 'recall': 0.0, 'f1-score': 0.0, 'support': 1912.0}, 'accuracy': 0.5033766233766234, 'macro avg': {'precision': 0.2516883116883117, 'recall': 0.5, 'f1-score': 0.3348306841741534, 'support': 3850.0}, 'weighted avg': {'precision': 0.25338802496205093, 'recall': 0.5033766233766234, 'f1-score': 0.3370918784049399, 'support': 3850.0}}\n",
      "Majority_Class_Classifier - val - Accuracy: 0.49031476997578693, ROC_AUC: 0.5, PRC_AUC: 0.7548426150121066\n",
      "{'0.0': {'precision': 0.49031476997578693, 'recall': 1.0, 'f1-score': 0.6580016246953696, 'support': 405.0}, '1.0': {'precision': 0.0, 'recall': 0.0, 'f1-score': 0.0, 'support': 421.0}, 'accuracy': 0.49031476997578693, 'macro avg': {'precision': 0.24515738498789347, 'recall': 0.5, 'f1-score': 0.3290008123476848, 'support': 826.0}, 'weighted avg': {'precision': 0.24040857365640886, 'recall': 0.49031476997578693, 'f1-score': 0.3226279152562042, 'support': 826.0}}\n",
      "Majority_Class_Classifier - test - Accuracy: 0.5242130750605327, ROC_AUC: 0.5, PRC_AUC: 0.7378934624697336\n",
      "{'0.0': {'precision': 0.5242130750605327, 'recall': 1.0, 'f1-score': 0.687847498014297, 'support': 433.0}, '1.0': {'precision': 0.0, 'recall': 0.0, 'f1-score': 0.0, 'support': 393.0}, 'accuracy': 0.5242130750605327, 'macro avg': {'precision': 0.26210653753026636, 'recall': 0.5, 'f1-score': 0.3439237490071485, 'support': 826.0}, 'weighted avg': {'precision': 0.2747993480644197, 'recall': 0.5242130750605327, 'f1-score': 0.36057865210676826, 'support': 826.0}}\n"
     ]
    },
    {
     "name": "stderr",
     "output_type": "stream",
     "text": [
      "/Users/emmaolsen/Desktop/microbiome-ML/venv/lib/python3.10/site-packages/sklearn/metrics/_classification.py:1509: UndefinedMetricWarning: Precision is ill-defined and being set to 0.0 in labels with no predicted samples. Use `zero_division` parameter to control this behavior.\n",
      "  _warn_prf(average, modifier, f\"{metric.capitalize()} is\", len(result))\n",
      "/Users/emmaolsen/Desktop/microbiome-ML/venv/lib/python3.10/site-packages/sklearn/metrics/_classification.py:1509: UndefinedMetricWarning: Precision is ill-defined and being set to 0.0 in labels with no predicted samples. Use `zero_division` parameter to control this behavior.\n",
      "  _warn_prf(average, modifier, f\"{metric.capitalize()} is\", len(result))\n",
      "/Users/emmaolsen/Desktop/microbiome-ML/venv/lib/python3.10/site-packages/sklearn/metrics/_classification.py:1509: UndefinedMetricWarning: Precision is ill-defined and being set to 0.0 in labels with no predicted samples. Use `zero_division` parameter to control this behavior.\n",
      "  _warn_prf(average, modifier, f\"{metric.capitalize()} is\", len(result))\n",
      "/Users/emmaolsen/Desktop/microbiome-ML/venv/lib/python3.10/site-packages/sklearn/metrics/_classification.py:1509: UndefinedMetricWarning: Precision is ill-defined and being set to 0.0 in labels with no predicted samples. Use `zero_division` parameter to control this behavior.\n",
      "  _warn_prf(average, modifier, f\"{metric.capitalize()} is\", len(result))\n",
      "/Users/emmaolsen/Desktop/microbiome-ML/venv/lib/python3.10/site-packages/sklearn/metrics/_classification.py:1509: UndefinedMetricWarning: Precision is ill-defined and being set to 0.0 in labels with no predicted samples. Use `zero_division` parameter to control this behavior.\n",
      "  _warn_prf(average, modifier, f\"{metric.capitalize()} is\", len(result))\n",
      "/Users/emmaolsen/Desktop/microbiome-ML/venv/lib/python3.10/site-packages/sklearn/metrics/_classification.py:1509: UndefinedMetricWarning: Precision is ill-defined and being set to 0.0 in labels with no predicted samples. Use `zero_division` parameter to control this behavior.\n",
      "  _warn_prf(average, modifier, f\"{metric.capitalize()} is\", len(result))\n",
      "/Users/emmaolsen/Desktop/microbiome-ML/venv/lib/python3.10/site-packages/sklearn/metrics/_classification.py:1509: UndefinedMetricWarning: Precision is ill-defined and being set to 0.0 in labels with no predicted samples. Use `zero_division` parameter to control this behavior.\n",
      "  _warn_prf(average, modifier, f\"{metric.capitalize()} is\", len(result))\n",
      "/Users/emmaolsen/Desktop/microbiome-ML/venv/lib/python3.10/site-packages/sklearn/metrics/_classification.py:1509: UndefinedMetricWarning: Precision is ill-defined and being set to 0.0 in labels with no predicted samples. Use `zero_division` parameter to control this behavior.\n",
      "  _warn_prf(average, modifier, f\"{metric.capitalize()} is\", len(result))\n",
      "/Users/emmaolsen/Desktop/microbiome-ML/venv/lib/python3.10/site-packages/sklearn/metrics/_classification.py:1509: UndefinedMetricWarning: Precision is ill-defined and being set to 0.0 in labels with no predicted samples. Use `zero_division` parameter to control this behavior.\n",
      "  _warn_prf(average, modifier, f\"{metric.capitalize()} is\", len(result))\n"
     ]
    }
   ],
   "source": [
    "def evaluate_majority_class_classifier(X_train, y_train, X_val, y_val, X_test, y_test, results_dir):\n",
    "    # train a dummy classifier that predicts the majority class\n",
    "    majority_class_clf = DummyClassifier(strategy='most_frequent', random_state=42)\n",
    "    majority_class_clf.fit(X_train, y_train)\n",
    "    \n",
    "    splits = [(X_train, y_train, 'train'), (X_val, y_val, 'val'), (X_test, y_test, 'test')]\n",
    "    majority_results, majority_roc_data, majority_prc_data, test_roc_data, test_prc_data = evaluate_classification(majority_class_clf, splits, model_name=\"Majority_Class_Classifier\")\n",
    "    save_model_results(majority_results, \"Majority_Class_Classifier\", results_dir)\n",
    "    \n",
    "    plot_roc_curves(majority_roc_data, \"Majority_Class_Classifier\", results_dir, filename='roc_curves.png')\n",
    "    plot_prc_curves(majority_prc_data, \"Majority_Class_Classifier\", results_dir, filename='prc_curves.png')\n",
    "\n",
    "    all_roc_data[\"Majority_Class_Classifier\"] = test_roc_data[\"Majority_Class_Classifier\"]\n",
    "    all_prc_data[\"Majority_Class_Classifier\"] = test_prc_data[\"Majority_Class_Classifier\"]\n",
    "\n",
    "    return majority_results, majority_roc_data, majority_prc_data\n",
    "\n",
    "majority_results, majority_roc_data, majority_prc_data = evaluate_majority_class_classifier(X_train, y_train, X_val, y_val, X_test, y_test, results_dir)\n"
   ]
  },
  {
   "cell_type": "markdown",
   "metadata": {},
   "source": [
    "## Baseline: Predicting Random Class maybe?"
   ]
  },
  {
   "cell_type": "code",
   "execution_count": 83,
   "metadata": {},
   "outputs": [
    {
     "name": "stdout",
     "output_type": "stream",
     "text": [
      "Chance_Class_Classifier - train - Accuracy: 0.5038961038961038, ROC_AUC: 0.5, PRC_AUC: 0.7483116883116883\n",
      "{'0.0': {'precision': 0.5072840790842872, 'recall': 0.5030959752321982, 'f1-score': 0.5051813471502591, 'support': 1938.0}, '1.0': {'precision': 0.5005186721991701, 'recall': 0.5047071129707112, 'f1-score': 0.5026041666666666, 'support': 1912.0}, 'accuracy': 0.5038961038961038, 'macro avg': {'precision': 0.5039013756417287, 'recall': 0.5039015441014547, 'f1-score': 0.5038927569084628, 'support': 3850.0}, 'weighted avg': {'precision': 0.5039242198727693, 'recall': 0.5038961038961038, 'f1-score': 0.5039014590763295, 'support': 3850.0}}\n",
      "Chance_Class_Classifier - val - Accuracy: 0.5145278450363197, ROC_AUC: 0.5, PRC_AUC: 0.7548426150121066\n",
      "{'0.0': {'precision': 0.505, 'recall': 0.49876543209876545, 'f1-score': 0.5018633540372671, 'support': 405.0}, '1.0': {'precision': 0.5234741784037559, 'recall': 0.5296912114014252, 'f1-score': 0.526564344746163, 'support': 421.0}, 'accuracy': 0.5145278450363197, 'macro avg': {'precision': 0.5142370892018779, 'recall': 0.5142283217500954, 'f1-score': 0.514213849391715, 'support': 826.0}, 'weighted avg': {'precision': 0.5144160158692267, 'recall': 0.5145278450363197, 'f1-score': 0.5144530841685566, 'support': 826.0}}\n",
      "Chance_Class_Classifier - test - Accuracy: 0.4854721549636804, ROC_AUC: 0.5, PRC_AUC: 0.7378934624697336\n",
      "{'0.0': {'precision': 0.51, 'recall': 0.47113163972286376, 'f1-score': 0.4897959183673469, 'support': 433.0}, '1.0': {'precision': 0.4624413145539906, 'recall': 0.5012722646310432, 'f1-score': 0.4810744810744811, 'support': 393.0}, 'accuracy': 0.4854721549636804, 'macro avg': {'precision': 0.4862206572769953, 'recall': 0.4862019521769535, 'f1-score': 0.485435199720914, 'support': 826.0}, 'weighted avg': {'precision': 0.4873721992974798, 'recall': 0.4854721549636804, 'f1-score': 0.4856463725367219, 'support': 826.0}}\n"
     ]
    }
   ],
   "source": [
    "def evaluate_Chance_Class_Classifier(X_train, y_train, X_val, y_val, X_test, y_test, results_dir):\n",
    "    # train a dummy classifier that predicts a random class\n",
    "    random_class_clf = DummyClassifier(strategy='uniform', random_state=42)\n",
    "    random_class_clf.fit(X_train, y_train)\n",
    "    \n",
    "    splits = [(X_train, y_train, 'train'), (X_val, y_val, 'val'), (X_test, y_test, 'test')]\n",
    "    random_results, random_roc_data, random_prc_data, test_roc_data, test_prc_data = evaluate_classification(random_class_clf, splits, model_name=\"Chance_Class_Classifier\")\n",
    "    save_model_results(random_results, \"Chance_Class_Classifier\", results_dir)\n",
    "    \n",
    "    plot_roc_curves(random_roc_data, \"Chance_Class_Classifier\", results_dir, filename='roc_curves.png')\n",
    "    plot_prc_curves(random_prc_data, \"Chance_Class_Classifier\", results_dir, filename='prc_curves.png')\n",
    "\n",
    "    all_roc_data[\"Chance_Class_Classifier\"] = test_roc_data[\"Chance_Class_Classifier\"]\n",
    "    all_prc_data[\"Chance_Class_Classifier\"] = test_prc_data[\"Chance_Class_Classifier\"]\n",
    "\n",
    "    return random_results, random_roc_data, random_prc_data\n",
    "\n",
    "random_results, random_roc_data, random_prc_data = evaluate_Chance_Class_Classifier(X_train, y_train, X_val, y_val, X_test, y_test, results_dir)\n",
    "\n"
   ]
  },
  {
   "cell_type": "markdown",
   "metadata": {},
   "source": [
    "## Plotting combined PRC and ROCAUC curves"
   ]
  },
  {
   "cell_type": "code",
   "execution_count": 84,
   "metadata": {},
   "outputs": [],
   "source": [
    "plot_combined_roc_curves(all_roc_data, results_dir, filename='all_roc_curves.png')\n",
    "plot_combined_prc_curves(all_prc_data, results_dir, filename='all_prc_curves.png')"
   ]
  },
  {
   "cell_type": "markdown",
   "metadata": {},
   "source": [
    "## Baseline: Predicting Outcome Variable from Demographic Variables Only "
   ]
  },
  {
   "cell_type": "markdown",
   "metadata": {},
   "source": []
  },
  {
   "cell_type": "markdown",
   "metadata": {},
   "source": []
  },
  {
   "cell_type": "markdown",
   "metadata": {},
   "source": []
  },
  {
   "cell_type": "markdown",
   "metadata": {},
   "source": []
  }
 ],
 "metadata": {
  "kernelspec": {
   "display_name": "venv",
   "language": "python",
   "name": "python3"
  },
  "language_info": {
   "codemirror_mode": {
    "name": "ipython",
    "version": 3
   },
   "file_extension": ".py",
   "mimetype": "text/x-python",
   "name": "python",
   "nbconvert_exporter": "python",
   "pygments_lexer": "ipython3",
   "version": "3.10.10"
  }
 },
 "nbformat": 4,
 "nbformat_minor": 2
}
